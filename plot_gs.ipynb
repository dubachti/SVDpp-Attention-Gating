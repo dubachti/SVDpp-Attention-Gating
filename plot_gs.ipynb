{
 "cells": [
  {
   "cell_type": "code",
   "execution_count": null,
   "id": "f1e1b865",
   "metadata": {},
   "outputs": [],
   "source": [
    "import matplotlib.pyplot as plt\n",
    "import pandas as pd\n",
    "\n",
    "file_svdppag = \"gs_results/2025-05-11-11-01-11_SVDppAG_grid_search.csv\"\n",
    "file_svdpp = \"gs_results/2025-05-12-08-31-29_SVDpp_grid_search.csv\"\n",
    "\n",
    "results_svdpp = pd.read_csv(file_svdpp)\n",
    "results_svdppag = pd.read_csv(file_svdppag)"
   ]
  },
  {
   "cell_type": "markdown",
   "id": "4fbbdcee",
   "metadata": {},
   "source": [
    "**plot all gs results over embedding dimensions**"
   ]
  },
  {
   "cell_type": "code",
   "execution_count": null,
   "id": "04ad6606",
   "metadata": {},
   "outputs": [],
   "source": [
    "plt.figure(figsize=(6, 3))\n",
    "plt.scatter(\n",
    "    results_svdpp[\"n_factors\"],\n",
    "    results_svdpp[\"validation_rmse\"],\n",
    "    label=\"SVDpp\",\n",
    "    alpha=0.5,\n",
    ")\n",
    "plt.scatter(\n",
    "    results_svdppag[\"n_factors\"],\n",
    "    results_svdppag[\"validation_rmse\"],\n",
    "    label=\"SVDppAG\",\n",
    "    alpha=0.5,\n",
    ")\n",
    "plt.title(\"Validationset RMSE vs Number of Factors\")\n",
    "plt.xlabel(\"Number of Factors\")\n",
    "plt.ylabel(\"RMSE\")\n",
    "plt.axhline(0.857, color=\"red\", linestyle=\"--\", label=\"Baseline 6\")\n",
    "plt.xscale(\"log\")\n",
    "plt.legend()\n",
    "plt.grid()"
   ]
  },
  {
   "cell_type": "markdown",
   "id": "e8688951",
   "metadata": {},
   "source": [
    "**plot best gs results by embedding dimensions (for each method)**"
   ]
  },
  {
   "cell_type": "code",
   "execution_count": null,
   "id": "eb26631b",
   "metadata": {},
   "outputs": [],
   "source": [
    "plt.figure(figsize=(6, 3))\n",
    "results_svdpp_best = results_svdpp.loc[results_svdpp.groupby(\"n_factors\")[\"validation_rmse\"].idxmin()]\n",
    "results_svdppag_best = results_svdppag.loc[results_svdppag.groupby(\"n_factors\")[\"validation_rmse\"].idxmin()]\n",
    "plt.plot(\n",
    "    results_svdpp_best[\"n_factors\"],\n",
    "    results_svdpp_best[\"validation_rmse\"],\n",
    "    label=\"SVDpp\",\n",
    "    marker=\"o\",\n",
    "    alpha=0.5,\n",
    ")\n",
    "plt.plot(\n",
    "    results_svdppag_best[\"n_factors\"],\n",
    "    results_svdppag_best[\"validation_rmse\"],\n",
    "    label=\"SVDppAG\",\n",
    "    marker=\"o\",\n",
    "    alpha=0.5,\n",
    ")\n",
    "plt.title(\"Validation RMSE vs Number of Factors (Best)\")\n",
    "plt.xlabel(\"Number of Factors\")\n",
    "plt.ylabel(\"RMSE\")\n",
    "plt.axhline(0.857, color=\"red\", linestyle=\"--\", label=\"Baseline 6\")\n",
    "plt.xscale(\"log\")\n",
    "plt.legend()\n",
    "plt.grid()"
   ]
  },
  {
   "cell_type": "markdown",
   "id": "afeaa8b7",
   "metadata": {},
   "source": [
    "## eval best gs results by embedding dimensions (for each method) on test set"
   ]
  },
  {
   "cell_type": "code",
   "execution_count": null,
   "id": "8e3b4d99",
   "metadata": {},
   "outputs": [],
   "source": [
    "file_svdpp = \"gs_results/2025-05-13-08-56-45_SVDpp_best_configs_test_results.csv\"\n",
    "file_svdppag = \"gs_results/2025-05-13-08-56-45_SVDppAG_best_configs_test_results.csv\"\n",
    "\n",
    "results_svdpp = pd.read_csv(file_svdpp)\n",
    "results_svdppag = pd.read_csv(file_svdppag)"
   ]
  },
  {
   "cell_type": "code",
   "execution_count": null,
   "id": "73f0f29a",
   "metadata": {},
   "outputs": [],
   "source": [
    "plt.figure(figsize=(6, 3))\n",
    "results_svdpp_best = results_svdpp.loc[results_svdpp.groupby(\"n_factors\")[\"final_test_rmse\"].idxmin()]\n",
    "results_svdppag_best = results_svdppag.loc[results_svdppag.groupby(\"n_factors\")[\"final_test_rmse\"].idxmin()]\n",
    "plt.plot(\n",
    "    results_svdpp_best[\"n_factors\"],\n",
    "    results_svdpp_best[\"final_test_rmse\"],\n",
    "    label=\"SVDpp\",\n",
    "    marker=\"o\",\n",
    "    alpha=0.5,\n",
    ")\n",
    "plt.plot(\n",
    "    results_svdppag_best[\"n_factors\"],\n",
    "    results_svdppag_best[\"final_test_rmse\"],\n",
    "    label=\"SVDppAG\",\n",
    "    marker=\"o\",\n",
    "    alpha=0.5,\n",
    ")\n",
    "plt.title(\"Testset RMSE vs Number of Factors (Best)\")\n",
    "plt.xlabel(\"Number of Factors\")\n",
    "plt.ylabel(\"RMSE\")\n",
    "plt.axhline(0.857, color=\"red\", linestyle=\"--\", label=\"Baseline 6\")\n",
    "plt.xscale(\"log\")\n",
    "plt.legend()\n",
    "plt.grid()"
   ]
  }
 ],
 "metadata": {
  "kernelspec": {
   "display_name": "venv",
   "language": "python",
   "name": "python3"
  },
  "language_info": {
   "codemirror_mode": {
    "name": "ipython",
    "version": 3
   },
   "file_extension": ".py",
   "mimetype": "text/x-python",
   "name": "python",
   "nbconvert_exporter": "python",
   "pygments_lexer": "ipython3",
   "version": "3.12.9"
  }
 },
 "nbformat": 4,
 "nbformat_minor": 5
}
