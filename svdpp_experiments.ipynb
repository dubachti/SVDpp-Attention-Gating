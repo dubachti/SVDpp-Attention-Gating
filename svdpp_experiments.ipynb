{
 "cells": [
  {
   "cell_type": "markdown",
   "id": "74bef2d1",
   "metadata": {},
   "source": [
    "# Baseline using SVD++\n",
    "all based on [surpire](https://surprise.readthedocs.io/en/stable/index.html) lib "
   ]
  },
  {
   "cell_type": "code",
   "execution_count": null,
   "id": "a29d43a2",
   "metadata": {},
   "outputs": [],
   "source": [
    "!pip uninstall -y numpy \n",
    "!pip install numpy==1.26.4\n",
    "!pip install scikit-surprise # requires numpy 1 🫠"
   ]
  },
  {
   "cell_type": "code",
   "execution_count": null,
   "id": "549970b6",
   "metadata": {},
   "outputs": [],
   "source": [
    "from surprise import SVDpp, accuracy\n",
    "import pandas as pd\n",
    "from sklearn.model_selection import train_test_split as sklearn_split\n",
    "from surprise import Dataset, Reader\n",
    "import pandas as pd\n",
    "from tqdm import tqdm\n",
    "import numpy as np\n",
    "\n",
    "from src.dataloader import Dataloader"
   ]
  },
  {
   "cell_type": "code",
   "execution_count": null,
   "id": "11ff7c8f",
   "metadata": {},
   "outputs": [],
   "source": [
    "def calculate_rmse(predictions):\n",
    "    sum_sq_error = 0\n",
    "    count = 0\n",
    "    \n",
    "    for _, _, true_rating, pred_rating in predictions:\n",
    "        if pred_rating is not None:\n",
    "            sum_sq_error += (true_rating - pred_rating) ** 2\n",
    "            count += 1\n",
    "    return np.sqrt(sum_sq_error / count)"
   ]
  },
  {
   "cell_type": "markdown",
   "id": "330d13ae",
   "metadata": {},
   "source": [
    "## SVDpp, explicite data only (ratings)"
   ]
  },
  {
   "cell_type": "code",
   "execution_count": null,
   "id": "0bf5e875",
   "metadata": {},
   "outputs": [],
   "source": [
    "ratings_df = Dataloader.load_train_ratings()\n",
    "tbr_df = Dataloader.load_train_tbr()\n",
    "\n",
    "ratings_train, ratings_test = sklearn_split(ratings_df, test_size=0.25, random_state=42)\n",
    "\n",
    "reader = Reader(line_format='user item rating', sep=',', skip_lines=0)\n",
    "trainset = Dataset.load_from_df(ratings_train[['sid', 'pid', 'rating']], reader=reader).build_full_trainset()\n",
    "testset = Dataset.load_from_df(ratings_test[['sid', 'pid', 'rating']], reader=reader).build_full_trainset().build_testset()\n",
    "\n",
    "model = SVDpp(n_factors=30, n_epochs=20, random_state=42)\n",
    "model = model.fit(trainset)\n",
    "predictions = []\n",
    "predictions_int = []\n",
    "for uid, iid, true_rating in testset:\n",
    "    pred = model.predict(uid, iid).est\n",
    "    predictions.append((uid, iid, true_rating, pred))\n",
    "    predictions_int.append((uid, iid, true_rating, np.round(pred, decimals=0)))\n",
    "\n",
    "rmse = calculate_rmse(predictions)\n",
    "print(f\"RMSE: {rmse:.4f}\")\n",
    "rmse_int = calculate_rmse(predictions_int)\n",
    "print(f\"RMSE int: {rmse_int:.4f}\")"
   ]
  },
  {
   "cell_type": "markdown",
   "id": "21166dd2",
   "metadata": {},
   "source": [
    "## SVDpp ensemble, explicite data only (ratings)"
   ]
  },
  {
   "cell_type": "code",
   "execution_count": null,
   "id": "4d686909",
   "metadata": {},
   "outputs": [],
   "source": [
    "ratings_df = Dataloader.load_train_ratings()\n",
    "tbr_df = Dataloader.load_train_tbr()\n",
    "\n",
    "ratings_train, ratings_test = sklearn_split(ratings_df, test_size=0.25, random_state=42)\n",
    "\n",
    "reader = Reader(line_format='user item rating', sep=',', skip_lines=0)\n",
    "trainset = Dataset.load_from_df(ratings_train[['sid', 'pid', 'rating']], reader=reader).build_full_trainset()\n",
    "testset = Dataset.load_from_df(ratings_test[['sid', 'pid', 'rating']], reader=reader).build_full_trainset().build_testset()\n",
    "\n",
    "models = {\n",
    "    'svdpp10': SVDpp(n_factors=10, n_epochs=20, random_state=42, reg_all=0.005),\n",
    "    'svdpp20': SVDpp(n_factors=20, n_epochs=20, random_state=42, reg_all=0.01),\n",
    "    'svdpp25': SVDpp(n_factors=25, n_epochs=20, random_state=42, reg_all=0.01),\n",
    "    'svdpp30': SVDpp(n_factors=30, n_epochs=20, random_state=42, reg_all=0.013),\n",
    "    'svdpp35': SVDpp(n_factors=35, n_epochs=20, random_state=42, reg_all=0.015),\n",
    "    'svdpp40': SVDpp(n_factors=40, n_epochs=20, random_state=42, reg_all=0.016),\n",
    "    'svdpp45': SVDpp(n_factors=45, n_epochs=20, random_state=42, reg_all=0.018),\n",
    "    'svdpp50': SVDpp(n_factors=50, n_epochs=20, random_state=42, reg_all=0.02),\n",
    "    'svdpp55': SVDpp(n_factors=55, n_epochs=20, random_state=42, reg_all=0.025),\n",
    "    'svdpp60': SVDpp(n_factors=60, n_epochs=20, random_state=42, reg_all=0.03),\n",
    "}\n",
    "\n",
    "trained_models = {}\n",
    "for name, algo in models.items():\n",
    "    print(f\"Training {name}...\")\n",
    "    trained_models[name] = algo.fit(trainset)\n",
    "\n",
    "def predict_ensemble(uid, iid, weights=None):\n",
    "    if weights is None:\n",
    "        weights = {name: 1/len(trained_models) for name in trained_models}\n",
    "    \n",
    "    predictions = {}\n",
    "    \n",
    "    for name, model in trained_models.items():\n",
    "        pred = model.predict(uid, iid).est\n",
    "        predictions[name] = pred\n",
    "    \n",
    "    weight_sum = sum(v for _,v in weights.items())\n",
    "    for name in weights:\n",
    "        weights[name] /= weight_sum\n",
    "    \n",
    "    # Calculate weighted average\n",
    "    weighted_sum = sum(\n",
    "        predictions[name] * weights[name] \n",
    "        for name in predictions \n",
    "    )\n",
    "    return weighted_sum\n",
    "\n",
    "print(\"Making ensemble predictions...\")\n",
    "ensemble_predictions = []\n",
    "ensemble_predictions_int = []\n",
    "\n",
    "for uid, iid, true_rating in testset:\n",
    "    pred = predict_ensemble(uid, iid)\n",
    "    ensemble_predictions.append((uid, iid, true_rating, pred))\n",
    "    ensemble_predictions_int.append((uid, iid, true_rating, np.round(pred, decimals=0)))\n",
    "\n",
    "ensemble_rmse = calculate_rmse(ensemble_predictions)\n",
    "print(f\"RMSE: {ensemble_rmse:.4f}\")\n",
    "ensemble_rmse_int = calculate_rmse(ensemble_predictions_int)\n",
    "print(f\"RMSE int: {ensemble_rmse_int:.4f}\")"
   ]
  },
  {
   "cell_type": "markdown",
   "id": "5e5043e0",
   "metadata": {},
   "source": [
    "## prediction for submission"
   ]
  },
  {
   "cell_type": "code",
   "execution_count": null,
   "id": "f61f6799",
   "metadata": {},
   "outputs": [],
   "source": [
    "# predict\n",
    "df_pred = Dataloader.load_sample_submission()\n",
    "predictions = []\n",
    "\n",
    "preds = set()\n",
    "for i, row in df_pred.iterrows():\n",
    "    pred = predict_ensemble(row['sid'], row['pid'])\n",
    "    preds.add(pred)\n",
    "    predictions.append([row['sid'], row['pid'], pred])\n",
    "\n",
    "results_df = pd.DataFrame(predictions, columns=['sid', 'pid', 'rating'])\n",
    "\n",
    "results_df['rating'] = results_df['rating']#.round().astype(int)\n",
    "\n",
    "with open('test_submission.csv', 'w') as f:\n",
    "    f.write('sid_pid,rating\\n')\n",
    "    for i, row in results_df.iterrows():\n",
    "        f.write(f'{int(row[\"sid\"])}_{int(row[\"pid\"])},{row[\"rating\"]}\\n')"
   ]
  }
 ],
 "metadata": {
  "kernelspec": {
   "display_name": "venv",
   "language": "python",
   "name": "python3"
  },
  "language_info": {
   "codemirror_mode": {
    "name": "ipython",
    "version": 3
   },
   "file_extension": ".py",
   "mimetype": "text/x-python",
   "name": "python",
   "nbconvert_exporter": "python",
   "pygments_lexer": "ipython3",
   "version": "3.12.9"
  }
 },
 "nbformat": 4,
 "nbformat_minor": 5
}
